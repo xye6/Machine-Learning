{
 "cells": [
  {
   "cell_type": "code",
   "execution_count": 1,
   "metadata": {
    "collapsed": true,
    "scrolled": true
   },
   "outputs": [],
   "source": [
    "import math\n",
    "import matplotlib.pyplot as plt\n",
    "import numpy as np\n",
    "import random\n",
    "\n",
    "def data_format(data):   \n",
    "    lines = data.readlines()\n",
    "    data_list = [word.strip() for word in lines]\n",
    "\n",
    "    new_data_list=[]\n",
    "    for i in data_list:\n",
    "        each_line=[]\n",
    "        for j in range(len(i.split())):\n",
    "            single_data= i.split()[j].split(':')[0]\n",
    "            each_line.append(eval(single_data))\n",
    "        new_data_list.append(each_line)\n",
    "\n",
    "    labels=[]\n",
    "    for i in range(len(new_data_list)):\n",
    "        labels.append(new_data_list[i][0])\n",
    "\n",
    "    for i in range(len(new_data_list)):\n",
    "        new_data_list[i].pop(0)\n",
    "\n",
    "    new_data_list_combine=[]\n",
    "    for i in range(len(new_data_list)):\n",
    "        x=[0]*123\n",
    "        for j in new_data_list[i]:\n",
    "            x[j-1]=1   \n",
    " #       x.append(1)   \n",
    "        new_data_list_combine.append(x)\n",
    "\n",
    "    X= np.array(new_data_list_combine)\n",
    "    Y= np.array(labels)  \n",
    "    return X,Y\n"
   ]
  },
  {
   "cell_type": "code",
   "execution_count": 2,
   "metadata": {
    "collapsed": true
   },
   "outputs": [],
   "source": [
    "data1 = open(\"/Users/xuejianye/Desktop/adult/a7a.train\")\n",
    "X1,Y1=data_format(data1)\n",
    "\n",
    "data2 = open(\"/Users/xuejianye/Desktop/adult/a7a.test\")\n",
    "X2,Y2=data_format(data2)\n",
    "\n",
    "data3 = open(\"/Users/xuejianye/Desktop/adult/a7a.dev\")\n",
    "X3,Y3=data_format(data3)"
   ]
  },
  {
   "cell_type": "code",
   "execution_count": 3,
   "metadata": {
    "collapsed": true,
    "scrolled": true
   },
   "outputs": [],
   "source": [
    "def svm_sgd(X,Y,n,C):\n",
    "    weight = np.zeros(len(X[0]))\n",
    "    b = 0\n",
    "    lr = 0.1\n",
    "    epochs = n\n",
    "    for N in range(1,epochs+1):\n",
    "        for i, x in enumerate(X):\n",
    "            if (Y[i] * (np.dot(weight.T, X[i]) + b)) < 1:\n",
    "                weight = weight - lr* ((1/len(X))*weight-C*(X[i]*Y[i]))\n",
    "                b = b + lr*(C*Y[i])\n",
    "            else:\n",
    "                weight = weight-lr*(1/len(X))*weight\n",
    "    weight=weight.tolist()\n",
    "    weight.insert(0,b)\n",
    "    \n",
    "    return weight\n",
    "\n",
    "#w = svm_sgd(X1,Y1,1,0.868)"
   ]
  },
  {
   "cell_type": "code",
   "execution_count": 4,
   "metadata": {
    "collapsed": true
   },
   "outputs": [],
   "source": [
    "def svm_train(X,Y,w):\n",
    "    b = w[0]\n",
    "    weight = np.asarray(w[1:])\n",
    "    lr = 0.1\n",
    "    epochs = 1\n",
    "    for N in range(1,epochs+1):\n",
    "        err_count=0\n",
    "        \n",
    "        for i, x in enumerate(X):\n",
    "            if (Y[i] * (np.dot(weight.T, X[i]) + b)) < 0:\n",
    "                err_count += 1 \n",
    "        accurate_rate = 1-err_count/len(X) \n",
    "#        print('TRAINING_ACCURACY:',accurate_rate) \n",
    "\n",
    "    return accurate_rate\n"
   ]
  },
  {
   "cell_type": "code",
   "execution_count": 5,
   "metadata": {
    "collapsed": true
   },
   "outputs": [],
   "source": [
    "def svm_test(X,Y,w):\n",
    "    b = w[0]\n",
    "    weight = np.asarray(w[1:])\n",
    "    lr = 0.1\n",
    "    epochs = 1\n",
    "    for N in range(1,epochs+1):\n",
    "        err_count=0\n",
    "        \n",
    "        for i, x in enumerate(X):\n",
    "            if (Y[i] * (np.dot(weight.T, X[i]) + b)) < 0:\n",
    "                err_count += 1 \n",
    "        accurate_rate = 1-err_count/len(X) \n",
    "#        print('TEST_ACCURACY:',accurate_rate) \n",
    "\n",
    "    return accurate_rate\n"
   ]
  },
  {
   "cell_type": "code",
   "execution_count": 6,
   "metadata": {
    "collapsed": true
   },
   "outputs": [],
   "source": [
    "def svm_dev(X,Y,w):\n",
    "    b = w[0]\n",
    "    weight = np.asarray(w[1:])\n",
    "    lr = 0.1\n",
    "    epochs = 1\n",
    "    for N in range(1,epochs+1):\n",
    "        err_count=0\n",
    "        \n",
    "        for i, x in enumerate(X):\n",
    "            if (Y[i] * (np.dot(weight.T, X[i]) + b)) < 0:\n",
    "                err_count += 1 \n",
    "        accurate_rate = 1-err_count/len(X) \n",
    "#        print('DEV_ACCURACY:',accurate_rate) \n",
    "\n",
    "    return accurate_rate\n"
   ]
  },
  {
   "cell_type": "code",
   "execution_count": 7,
   "metadata": {
    "collapsed": true
   },
   "outputs": [],
   "source": [
    "def result(n,C):   \n",
    "    print('EPOCHS: ',n)\n",
    "    print('CAPACITY: ',C)\n",
    "\n",
    "    w = svm_sgd(X1,Y1,n,C)\n",
    "    print('TRAINING_ACCURACY:',svm_train(X1,Y1,w))\n",
    "    print('TEST_ACCURACY:',svm_test(X2,Y2,w))      \n",
    "    print('DEV_ACCURACY:',svm_dev(X3,Y3,w))\n",
    "    print('FINAL_SVM:',w)"
   ]
  },
  {
   "cell_type": "code",
   "execution_count": 8,
   "metadata": {
    "collapsed": true
   },
   "outputs": [],
   "source": [
    "import sys\n",
    "def main():\n",
    "    if '--epoches' in sys.argv and '--C' in sys.argv:\n",
    "        ep = int(sys.argv[sys.argv.index('--epoches')+1])\n",
    "        C = float(sys.argv[sys.argv.index('--C')+1])\n",
    "        result(ep,C)\n",
    "if __name__ == \"__main__\":\n",
    "    main()\n",
    "        "
   ]
  },
  {
   "cell_type": "code",
   "execution_count": null,
   "metadata": {
    "collapsed": true
   },
   "outputs": [],
   "source": []
  }
 ],
 "metadata": {
  "kernelspec": {
   "display_name": "Python 3",
   "language": "python",
   "name": "python3"
  },
  "language_info": {
   "codemirror_mode": {
    "name": "ipython",
    "version": 3
   },
   "file_extension": ".py",
   "mimetype": "text/x-python",
   "name": "python",
   "nbconvert_exporter": "python",
   "pygments_lexer": "ipython3",
   "version": "3.6.1"
  }
 },
 "nbformat": 4,
 "nbformat_minor": 2
}
